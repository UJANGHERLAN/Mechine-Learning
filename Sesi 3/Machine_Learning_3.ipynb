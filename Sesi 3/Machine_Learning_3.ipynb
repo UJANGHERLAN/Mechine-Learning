{
  "nbformat": 4,
  "nbformat_minor": 0,
  "metadata": {
    "colab": {
      "provenance": []
    },
    "kernelspec": {
      "name": "python3",
      "display_name": "Python 3"
    },
    "language_info": {
      "name": "python"
    }
  },
  "cells": [
    {
      "cell_type": "code",
      "execution_count": null,
      "metadata": {
        "colab": {
          "base_uri": "https://localhost:8080/"
        },
        "id": "El-Xgq0r_isK",
        "outputId": "7be103e0-a4d0-4050-a172-0be7c3767641"
      },
      "outputs": [
        {
          "output_type": "stream",
          "name": "stdout",
          "text": [
            "Akurasi: 1.0\n",
            "Hasil Prediksi:\n",
            "Data test 1: Kelas prediksi = Tolak\n"
          ]
        }
      ],
      "source": [
        "#Approval Pinjaman\n",
        "from sklearn.neighbors import KNeighborsClassifier\n",
        "\n",
        "# Data training\n",
        "X_train = [[40,5,60], [50,8,40], [50,7,30],[70,4,60],[80,4,80],[60,6,60]]\n",
        "y_train = ['Tolak', 'Terima', 'Tolak','Terima','Terima','Terima']\n",
        "\n",
        "# Inisialisasi model KNN dengan jumlah tetangga (n_neighbors) sebesar 3 (ubah nilai k)\n",
        "knn = KNeighborsClassifier(n_neighbors=3)\n",
        "\n",
        "# Melatih model dengan data training\n",
        "knn.fit(X_train, y_train)\n",
        "\n",
        "# Data test\n",
        "X_test = [[50,3,40]]\n",
        "y_test = ['Tolak']  # Label yang seharusnya didapat dari prediksi\n",
        "\n",
        "# Melakukan prediksi dengan model yang sudah dilatih\n",
        "predictions = knn.predict(X_test)\n",
        "\n",
        "# Mengevaluasi performa model\n",
        "accuracy = knn.score(X_test, y_test)\n",
        "print(\"Akurasi:\", accuracy)\n",
        "\n",
        "# Menampilkan hasil prediksi\n",
        "print(\"Hasil Prediksi:\")\n",
        "for i, pred in enumerate(predictions):\n",
        "    print(f\"Data test {i+1}: Kelas prediksi = {pred}\")"
      ]
    },
    {
      "cell_type": "code",
      "source": [
        "#Kualitas Kertas Tissue\n",
        "from sklearn.neighbors import KNeighborsClassifier\n",
        "\n",
        "# Data training\n",
        "X_train = [[8, 4], [4,5], [4,6],[7,7],[5,6],[6,5]]\n",
        "y_train = ['Baik', 'Jelek', 'Jelek','Baik','Jelek','Baik']\n",
        "\n",
        "# Inisialisasi model KNN dengan jumlah tetangga (n_neighbors) sebesar 3 (ubah nilai k)\n",
        "knn = KNeighborsClassifier(n_neighbors=4)\n",
        "\n",
        "# Melatih model dengan data training\n",
        "knn.fit(X_train, y_train)\n",
        "\n",
        "# Data test\n",
        "X_test = [[7,4]]\n",
        "y_test = ['Baik']  # Label yang seharusnya didapat dari prediksi\n",
        "\n",
        "# Melakukan prediksi dengan model yang sudah dilatih\n",
        "predictions = knn.predict(X_test)\n",
        "\n",
        "# Mengevaluasi performa model\n",
        "accuracy = knn.score(X_test, y_test)\n",
        "print(\"Akurasi:\", accuracy)\n",
        "\n",
        "# Menampilkan hasil prediksi\n",
        "print(\"Hasil Prediksi:\")\n",
        "for i, pred in enumerate(predictions):\n",
        "    print(f\"Data test {i+1}: Kelas prediksi = {pred}\")"
      ],
      "metadata": {
        "id": "oncj3oy9_8Rw",
        "colab": {
          "base_uri": "https://localhost:8080/"
        },
        "outputId": "971c4c4d-679f-464c-eb88-46d6eb80c354"
      },
      "execution_count": null,
      "outputs": [
        {
          "output_type": "stream",
          "name": "stdout",
          "text": [
            "Akurasi: 1.0\n",
            "Hasil Prediksi:\n",
            "Data test 1: Kelas prediksi = Baik\n"
          ]
        }
      ]
    }
  ]
}